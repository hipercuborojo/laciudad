{
  "nbformat": 4,
  "nbformat_minor": 0,
  "metadata": {
    "colab": {
      "name": "Untitled3.ipynb",
      "provenance": [],
      "collapsed_sections": []
    },
    "kernelspec": {
      "name": "python3",
      "display_name": "Python 3"
    },
    "language_info": {
      "name": "python"
    }
  },
  "cells": [
    {
      "cell_type": "code",
      "metadata": {
        "id": "ne7KFu9LEGcS"
      },
      "source": [
        "!pip install --upgrade google-cloud-vision"
      ],
      "execution_count": null,
      "outputs": []
    },
    {
      "cell_type": "code",
      "metadata": {
        "id": "dyjgbOzG852G"
      },
      "source": [
        "import pandas as pd\n",
        "import seaborn as sn\n",
        "from matplotlib import pyplot as plt\n",
        "import os\n",
        "from PIL import Image\n",
        "import requests\n",
        "from io import BytesIO\n",
        "from urllib.request import urlopen"
      ],
      "execution_count": 63,
      "outputs": []
    },
    {
      "cell_type": "code",
      "metadata": {
        "id": "Qn6NvcG-AFuq"
      },
      "source": [
        "df = pd.read_csv(\"postmodel.csv\")\n",
        "df = df.set_index(\"date\")"
      ],
      "execution_count": 2,
      "outputs": []
    },
    {
      "cell_type": "code",
      "metadata": {
        "id": "Vt16MeWUAKGP"
      },
      "source": [
        "hashtags = df[\"hashtags\"].map(lambda tags: tags.split(\",\") if isinstance(tags, str) else tags)\n",
        "hashtags = hashtags[hashtags.apply(isinstance, args=(list,))]\n",
        "\n",
        "all_hashtags_list = [v for hv in hashtags for v in hv]\n",
        "unique_hashtags = set(all_hashtags_list)"
      ],
      "execution_count": 3,
      "outputs": []
    },
    {
      "cell_type": "code",
      "metadata": {
        "colab": {
          "base_uri": "https://localhost:8080/"
        },
        "id": "FLNtGpEU1Y80",
        "outputId": "dacdfe8a-a8be-43ee-f482-4a919d3d6669"
      },
      "source": [
        "pd.Series(all_hashtags_list).value_counts()"
      ],
      "execution_count": 4,
      "outputs": [
        {
          "output_type": "execute_result",
          "data": {
            "text/plain": [
              "cusco               11234\n",
              "peru                 6267\n",
              "lima                 2006\n",
              "travel               1627\n",
              "perú                 1568\n",
              "                    ...  \n",
              "cayonlake               1\n",
              "lifeexpiriences         1\n",
              "scrapbook               1\n",
              "fotografiadeaves        1\n",
              "elquesabesabe           1\n",
              "Length: 36054, dtype: int64"
            ]
          },
          "metadata": {},
          "execution_count": 4
        }
      ]
    },
    {
      "cell_type": "code",
      "metadata": {
        "id": "HA-T28TxrLDi"
      },
      "source": [
        "df.index = pd.DatetimeIndex(data=df.index)"
      ],
      "execution_count": 5,
      "outputs": []
    },
    {
      "cell_type": "code",
      "metadata": {
        "colab": {
          "base_uri": "https://localhost:8080/",
          "height": 296
        },
        "id": "0Ce-sPTS3U8y",
        "outputId": "99248e9d-8112-4a76-98ed-aee22c01c130"
      },
      "source": [
        "sn.lineplot(data=df.resample(\"D\").mean(), x=\"date\", y=\"comments\")\n",
        "sn.lineplot(data=df.resample(\"D\").mean(), x=\"date\", y=\"likes\")"
      ],
      "execution_count": 6,
      "outputs": [
        {
          "output_type": "execute_result",
          "data": {
            "text/plain": [
              "<matplotlib.axes._subplots.AxesSubplot at 0x7f2325a23050>"
            ]
          },
          "metadata": {},
          "execution_count": 6
        },
        {
          "output_type": "display_data",
          "data": {
            "image/png": "[encoded data removed]",
            "text/plain": [
              "<Figure size 432x288 with 1 Axes>"
            ]
          },
          "metadata": {
            "needs_background": "light"
          }
        }
      ]
    },
    {
      "cell_type": "code",
      "metadata": {
        "id": "I6_QPA8m9YtD"
      },
      "source": [
        "from google.cloud import vision"
      ],
      "execution_count": 13,
      "outputs": []
    },
    {
      "cell_type": "code",
      "metadata": {
        "id": "T-kQntKMHGps"
      },
      "source": [
        "os.environ[\"GOOGLE_APPLICATION_CREDENTIALS\"]=\"constellation-323321-ec26b9dbfb2f.json\""
      ],
      "execution_count": 19,
      "outputs": []
    },
    {
      "cell_type": "code",
      "metadata": {
        "id": "kE3MTT97KXfs"
      },
      "source": [
        "client = vision.ImageAnnotatorClient()"
      ],
      "execution_count": 20,
      "outputs": []
    },
    {
      "cell_type": "code",
      "metadata": {
        "colab": {
          "base_uri": "https://localhost:8080/"
        },
        "id": "5CwKzAqBKmAb",
        "outputId": "65304e2c-2a7b-445d-9e6a-3590e3514463"
      },
      "source": [
        "img_url = \"https://laciudadinvisible.sfo2.digitaloceanspaces.com/laciudadinvisible/CQ8on-2rQ15.jpg\"\n",
        "\n",
        "image = vision.Image()\n",
        "image.source.image_uri = img_url\n",
        "\n",
        "vision_response = client.label_detection(image=image)\n",
        "labels = vision_response.label_annotations\n",
        "\n",
        "print('Labels:')\n",
        "for label in labels:\n",
        "    print(label.description, '(%.2f%%)' % (label.score*100.))\n"
      ],
      "execution_count": 91,
      "outputs": [
        {
          "output_type": "stream",
          "name": "stdout",
          "text": [
            "Labels:\n",
            "Train (98.53%)\n",
            "Plant (95.50%)\n",
            "Sky (94.20%)\n",
            "Cloud (93.99%)\n",
            "Mountain (90.74%)\n",
            "Nature (89.97%)\n",
            "Rolling stock (89.33%)\n",
            "Vehicle (89.19%)\n",
            "Highland (84.18%)\n",
            "Electricity (84.17%)\n"
          ]
        }
      ]
    },
    {
      "cell_type": "code",
      "metadata": {
        "id": "vAH-1FkXSBIM"
      },
      "source": [
        "demo_set = df[:50]\n",
        "\n",
        "# for d in demo_set:\n",
        "    # print(d[\"\"])\n",
        "\n",
        "    \n",
        "series = []\n",
        "for row in demo_set.iterrows():\n",
        "    id = row[1][\"id\"]\n",
        "    hashtags = row[1][\"hashtags\"]\n",
        "    image_uri = row[1][\"image_uri\"]\n",
        "\n",
        "    image = vision.Image()\n",
        "    image.source.image_uri = image_uri\n",
        "\n",
        "    vision_response = client.label_detection(image=image)\n",
        "    labels = vision_response.label_annotations\n",
        "\n",
        "    # print('Labels:')\n",
        "    # for label in labels:\n",
        "    #     print(label.description, '(%.2f%%)' % (label.score*100.))\n",
        "\n",
        "    labels_descriptions = [l.description for l in labels]\n",
        "    series.append(pd.Series({\"id\": id, \"hashtags\": hashtags, \"image_uri\": image_uri, \"labels\": labels_descriptions}))"
      ],
      "execution_count": 120,
      "outputs": []
    },
    {
      "cell_type": "code",
      "metadata": {
        "colab": {
          "base_uri": "https://localhost:8080/",
          "height": 35
        },
        "id": "gk96Ijdidzss",
        "outputId": "96de8165-9779-4560-dc12-b0a814ea163a"
      },
      "source": [
        "series[0][\"image_uri\"]"
      ],
      "execution_count": 118,
      "outputs": [
        {
          "output_type": "execute_result",
          "data": {
            "application/vnd.google.colaboratory.intrinsic+json": {
              "type": "string"
            },
            "text/plain": [
              "'https://laciudadinvisible.sfo2.digitaloceanspaces.com/laciudadinvisible/CO8-3lxJurc.jpg'"
            ]
          },
          "metadata": {},
          "execution_count": 118
        }
      ]
    },
    {
      "cell_type": "code",
      "metadata": {
        "colab": {
          "base_uri": "https://localhost:8080/",
          "height": 1000
        },
        "id": "UNNboY8xmW2V",
        "outputId": "560e6742-7d81-4d54-884f-e34f51fb8efb"
      },
      "source": [
        "pd.DataFrame(series)"
      ],
      "execution_count": 121,
      "outputs": [
        {
          "output_type": "execute_result",
          "data": {
            "text/html": [
              "<div>\n",
              "<style scoped>\n",
              "    .dataframe tbody tr th:only-of-type {\n",
              "        vertical-align: middle;\n",
              "    }\n",
              "\n",
              "    .dataframe tbody tr th {\n",
              "        vertical-align: top;\n",
              "    }\n",
              "\n",
              "    .dataframe thead th {\n",
              "        text-align: right;\n",
              "    }\n",
              "</style>\n",
              "<table border=\"1\" class=\"dataframe\">\n",
              "  <thead>\n",
              "    <tr style=\"text-align: right;\">\n",
              "      <th></th>\n",
              "      <th>id</th>\n",
              "      <th>hashtags</th>\n",
              "      <th>image_uri</th>\n",
              "      <th>labels</th>\n",
              "    </tr>\n",
              "  </thead>\n",
              "  <tbody>\n",
              "    <tr>\n",
              "      <th>0</th>\n",
              "      <td>CO8-3lxJurc</td>\n",
              "      <td>cusco,viajes,travel,peru,cuzco</td>\n",
              "      <td>https://laciudadinvisible.sfo2.digitaloceanspa...</td>\n",
              "      <td>[Cloud, Jeans, Sky, Smile, Leg, Blue, Azure, P...</td>\n",
              "    </tr>\n",
              "    <tr>\n",
              "      <th>1</th>\n",
              "      <td>CO8-6UhHGLS</td>\n",
              "      <td>fd3s,rx7,13b,13bt,rotary,rotarygang,mazdaflow,...</td>\n",
              "      <td>https://laciudadinvisible.sfo2.digitaloceanspa...</td>\n",
              "      <td>[Car, Vehicle, Wheel, Automotive lighting, Hoo...</td>\n",
              "    </tr>\n",
              "    <tr>\n",
              "      <th>2</th>\n",
              "      <td>CO8-ErhDzQH</td>\n",
              "      <td>jordan,zapatillasjordan,jordanretro,zaptillasj...</td>\n",
              "      <td>https://laciudadinvisible.sfo2.digitaloceanspa...</td>\n",
              "      <td>[Footwear, Shoe, Walking shoe, Grey, Sneakers,...</td>\n",
              "    </tr>\n",
              "    <tr>\n",
              "      <th>3</th>\n",
              "      <td>CO8-GcaHR8h</td>\n",
              "      <td>ayacucho,cusco,pichari,unsch,café,coffee</td>\n",
              "      <td>https://laciudadinvisible.sfo2.digitaloceanspa...</td>\n",
              "      <td>[Drinkware, Tableware, Beer, Barware, Beer gla...</td>\n",
              "    </tr>\n",
              "    <tr>\n",
              "      <th>4</th>\n",
              "      <td>CO8-PJjli3X</td>\n",
              "      <td>sacredjourneys,ritual,cusco,peru,spiritualjour...</td>\n",
              "      <td>https://laciudadinvisible.sfo2.digitaloceanspa...</td>\n",
              "      <td>[Building, Sky, Window, Infrastructure, Road s...</td>\n",
              "    </tr>\n",
              "    <tr>\n",
              "      <th>5</th>\n",
              "      <td>CO8-YX9La4H</td>\n",
              "      <td>naturaleza,peru,nature,travel,photography,land...</td>\n",
              "      <td>https://laciudadinvisible.sfo2.digitaloceanspa...</td>\n",
              "      <td>[Blue, Sleeve, Plant, Waist, Happy, Sportswear...</td>\n",
              "    </tr>\n",
              "    <tr>\n",
              "      <th>6</th>\n",
              "      <td>CO8-a4spLqs</td>\n",
              "      <td>artesania,cuarzos,cristales,hechoconamor,hecho...</td>\n",
              "      <td>https://laciudadinvisible.sfo2.digitaloceanspa...</td>\n",
              "      <td>[Outerwear, Sleeve, Fashion design, Pattern, W...</td>\n",
              "    </tr>\n",
              "    <tr>\n",
              "      <th>7</th>\n",
              "      <td>CO8-eyZpvQX</td>\n",
              "      <td>tb,trekking,roads,peru,cusco</td>\n",
              "      <td>https://laciudadinvisible.sfo2.digitaloceanspa...</td>\n",
              "      <td>[Mountain, Plant, Cloud, Green, Sky, Nature, P...</td>\n",
              "    </tr>\n",
              "    <tr>\n",
              "      <th>8</th>\n",
              "      <td>CO8-kuMJcJb</td>\n",
              "      <td>urubamba,vallesagrado,cusco,cleteada</td>\n",
              "      <td>https://laciudadinvisible.sfo2.digitaloceanspa...</td>\n",
              "      <td>[Plant, Cloud, Sky, Building, Property, Flower...</td>\n",
              "    </tr>\n",
              "    <tr>\n",
              "      <th>9</th>\n",
              "      <td>CO8-sGKp4Lc</td>\n",
              "      <td>vallesagrado,cusco,aranwa,family,felicidad,esc...</td>\n",
              "      <td>https://laciudadinvisible.sfo2.digitaloceanspa...</td>\n",
              "      <td>[Plant, Blue, Azure, Flowerpot, Leisure, Tree,...</td>\n",
              "    </tr>\n",
              "    <tr>\n",
              "      <th>10</th>\n",
              "      <td>CO8-yLqDL9q</td>\n",
              "      <td>cusco,cuscoperu,perritosfelices,perritosviajer...</td>\n",
              "      <td>https://laciudadinvisible.sfo2.digitaloceanspa...</td>\n",
              "      <td>[Dog, Sky, Building, Plant, Carnivore, Dog bre...</td>\n",
              "    </tr>\n",
              "    <tr>\n",
              "      <th>11</th>\n",
              "      <td>CO8357aju6O</td>\n",
              "      <td>machupicchu,cusco,machupicchu,viajes,viajesper...</td>\n",
              "      <td>https://laciudadinvisible.sfo2.digitaloceanspa...</td>\n",
              "      <td>[Cloud, Sky, Mountain, Ecoregion, Plant, Peopl...</td>\n",
              "    </tr>\n",
              "    <tr>\n",
              "      <th>12</th>\n",
              "      <td>CO83_0bh9Zx</td>\n",
              "      <td>montaña7colores,cusco</td>\n",
              "      <td>https://laciudadinvisible.sfo2.digitaloceanspa...</td>\n",
              "      <td>[Sky, Mountain, Snow, Slope, Highland, Natural...</td>\n",
              "    </tr>\n",
              "    <tr>\n",
              "      <th>13</th>\n",
              "      <td>CO83_9-MRpZ</td>\n",
              "      <td>cusco,losuros,tourcusco,cuzco,machupicchu</td>\n",
              "      <td>https://laciudadinvisible.sfo2.digitaloceanspa...</td>\n",
              "      <td>[Water, Boat, Sky, Photograph, Watercraft, Clo...</td>\n",
              "    </tr>\n",
              "    <tr>\n",
              "      <th>14</th>\n",
              "      <td>CO83xWdJEOa</td>\n",
              "      <td>peru,peruvian,cusco,montaña7colores,travel,won...</td>\n",
              "      <td>https://laciudadinvisible.sfo2.digitaloceanspa...</td>\n",
              "      <td>[Sky, Cloud, Ecoregion, Natural environment, P...</td>\n",
              "    </tr>\n",
              "    <tr>\n",
              "      <th>15</th>\n",
              "      <td>CO84OlthaNP</td>\n",
              "      <td>cusco,montaña7colores</td>\n",
              "      <td>https://laciudadinvisible.sfo2.digitaloceanspa...</td>\n",
              "      <td>[Cloud, Sky, Mountain, Snow, World, Slope, Hig...</td>\n",
              "    </tr>\n",
              "    <tr>\n",
              "      <th>16</th>\n",
              "      <td>CO84Th1ryfl</td>\n",
              "      <td>donangelinkacasona,restaurantebuffet,urubamba,...</td>\n",
              "      <td>https://laciudadinvisible.sfo2.digitaloceanspa...</td>\n",
              "      <td>[Chin, Eyebrow, Sleeve, Headgear, Collar, Cap,...</td>\n",
              "    </tr>\n",
              "    <tr>\n",
              "      <th>17</th>\n",
              "      <td>CO84g39rWlb</td>\n",
              "      <td>igersperu,cusco,trek,trekkingperu,sibinacocha,...</td>\n",
              "      <td>https://laciudadinvisible.sfo2.digitaloceanspa...</td>\n",
              "      <td>[Cloud, Sky, People in nature, Slope, Mountain...</td>\n",
              "    </tr>\n",
              "    <tr>\n",
              "      <th>18</th>\n",
              "      <td>CO84j5Orxxe</td>\n",
              "      <td>missuniverse2020,missperu2020,peru,peruvian,mi...</td>\n",
              "      <td>https://laciudadinvisible.sfo2.digitaloceanspa...</td>\n",
              "      <td>[Smile, Face, Nose, Hair, Cheek, Skin, Head, L...</td>\n",
              "    </tr>\n",
              "    <tr>\n",
              "      <th>19</th>\n",
              "      <td>CO84sqTLNst</td>\n",
              "      <td>cusco</td>\n",
              "      <td>https://laciudadinvisible.sfo2.digitaloceanspa...</td>\n",
              "      <td>[Smile, Shoulder, Sleeve, Flash photography, S...</td>\n",
              "    </tr>\n",
              "    <tr>\n",
              "      <th>20</th>\n",
              "      <td>CO84yS3DpUy</td>\n",
              "      <td>dog,riograndedosul,cusco,modelofotografica</td>\n",
              "      <td>https://laciudadinvisible.sfo2.digitaloceanspa...</td>\n",
              "      <td>[Dog, Dog breed, Carnivore, Comfort, Whiskers,...</td>\n",
              "    </tr>\n",
              "    <tr>\n",
              "      <th>21</th>\n",
              "      <td>CO852XUBEwC</td>\n",
              "      <td>brasileiroemcusco,brasil,peru,cusco,olantaytambo</td>\n",
              "      <td>https://laciudadinvisible.sfo2.digitaloceanspa...</td>\n",
              "      <td>[Plant, Shorts, Luggage and bags, Natural land...</td>\n",
              "    </tr>\n",
              "    <tr>\n",
              "      <th>22</th>\n",
              "      <td>CO859oSrIzY</td>\n",
              "      <td>lacasonadelinka,restaurante,restauranteturisti...</td>\n",
              "      <td>https://laciudadinvisible.sfo2.digitaloceanspa...</td>\n",
              "      <td>[Table, Furniture, Property, Window, Orange, W...</td>\n",
              "    </tr>\n",
              "    <tr>\n",
              "      <th>23</th>\n",
              "      <td>CO85D4plI6d</td>\n",
              "      <td>cusco,peru,inca,machupicchu,nature,life,picoft...</td>\n",
              "      <td>https://laciudadinvisible.sfo2.digitaloceanspa...</td>\n",
              "      <td>[Cloud, Sky, Plant, Nature, Natural landscape,...</td>\n",
              "    </tr>\n",
              "    <tr>\n",
              "      <th>24</th>\n",
              "      <td>CO85JQtpC39</td>\n",
              "      <td>cusco,landscape,craftbeer,peru,trip,wanderlust...</td>\n",
              "      <td>https://laciudadinvisible.sfo2.digitaloceanspa...</td>\n",
              "      <td>[Cloud, Tableware, Sky, Drinkware, Liquid, Bee...</td>\n",
              "    </tr>\n",
              "    <tr>\n",
              "      <th>25</th>\n",
              "      <td>CO85NIdrodt</td>\n",
              "      <td>cairns,piedras,alpinismo,combapata,cusco,peru</td>\n",
              "      <td>https://laciudadinvisible.sfo2.digitaloceanspa...</td>\n",
              "      <td>[Sky, Mountain, Snow, Natural landscape, Bedro...</td>\n",
              "    </tr>\n",
              "    <tr>\n",
              "      <th>26</th>\n",
              "      <td>CO85SzrM_oi</td>\n",
              "      <td>NaN</td>\n",
              "      <td>https://laciudadinvisible.sfo2.digitaloceanspa...</td>\n",
              "      <td>[Cloud, Plant, Sky, Property, Building, Window...</td>\n",
              "    </tr>\n",
              "    <tr>\n",
              "      <th>27</th>\n",
              "      <td>CO85UzSL7tx</td>\n",
              "      <td>moray,valledagrado,salinerasdemaras,maras,peru...</td>\n",
              "      <td>https://laciudadinvisible.sfo2.digitaloceanspa...</td>\n",
              "      <td>[Flower, Plant, Cloud, Sky, Plant community, E...</td>\n",
              "    </tr>\n",
              "    <tr>\n",
              "      <th>28</th>\n",
              "      <td>CO85VaIBy4X</td>\n",
              "      <td>a1petspremium,peru,lima,cusco,puntahermosa,mir...</td>\n",
              "      <td>https://laciudadinvisible.sfo2.digitaloceanspa...</td>\n",
              "      <td>[Dog, Organism, Gesture, Yellow, Poster, Happy...</td>\n",
              "    </tr>\n",
              "    <tr>\n",
              "      <th>29</th>\n",
              "      <td>CO85jmjMvM5</td>\n",
              "      <td>cusco,paddle</td>\n",
              "      <td>https://laciudadinvisible.sfo2.digitaloceanspa...</td>\n",
              "      <td>[Water, Cloud, Sky, People in nature, Boats an...</td>\n",
              "    </tr>\n",
              "    <tr>\n",
              "      <th>30</th>\n",
              "      <td>CO85oVchxTb</td>\n",
              "      <td>perudestinations,southamerica</td>\n",
              "      <td>https://laciudadinvisible.sfo2.digitaloceanspa...</td>\n",
              "      <td>[Clothing, Street light, Road surface, Temple,...</td>\n",
              "    </tr>\n",
              "    <tr>\n",
              "      <th>31</th>\n",
              "      <td>CO85r75LNR8</td>\n",
              "      <td>streetwear,streetwearfashion,streetwearbrand,s...</td>\n",
              "      <td>https://laciudadinvisible.sfo2.digitaloceanspa...</td>\n",
              "      <td>[Sky, Cloud, People in nature, Flash photograp...</td>\n",
              "    </tr>\n",
              "    <tr>\n",
              "      <th>32</th>\n",
              "      <td>CO85wKtIF5D</td>\n",
              "      <td>maywastore,mujeresconestilo,maywacusco,maywaje...</td>\n",
              "      <td>https://laciudadinvisible.sfo2.digitaloceanspa...</td>\n",
              "      <td>[Jeans, Trousers, Outerwear, Human body, Sleev...</td>\n",
              "    </tr>\n",
              "    <tr>\n",
              "      <th>33</th>\n",
              "      <td>CO866QXl2Xy</td>\n",
              "      <td>plazadearmascusco,plazadearmas,sacredvalley,ma...</td>\n",
              "      <td>https://laciudadinvisible.sfo2.digitaloceanspa...</td>\n",
              "      <td>[Brown, Water, Sky, Cloud, Road surface, Wood,...</td>\n",
              "    </tr>\n",
              "    <tr>\n",
              "      <th>34</th>\n",
              "      <td>CO86PmunEZ6</td>\n",
              "      <td>ancient,ancients,ancienthistory,ancientruins,a...</td>\n",
              "      <td>https://laciudadinvisible.sfo2.digitaloceanspa...</td>\n",
              "      <td>[Smile, Art, Happy, Chest, Cap, Metal, Event, ...</td>\n",
              "    </tr>\n",
              "    <tr>\n",
              "      <th>35</th>\n",
              "      <td>CO86TUUlR6E</td>\n",
              "      <td>cusco,peru,barberos,barberosdelmundo,travelpho...</td>\n",
              "      <td>https://laciudadinvisible.sfo2.digitaloceanspa...</td>\n",
              "      <td>[Eyebrow, Jaw, Ear, Office equipment, Engineer...</td>\n",
              "    </tr>\n",
              "    <tr>\n",
              "      <th>36</th>\n",
              "      <td>CO86UPwBaVU</td>\n",
              "      <td>visitaperu,southamerica</td>\n",
              "      <td>https://laciudadinvisible.sfo2.digitaloceanspa...</td>\n",
              "      <td>[Plant, Tableware, Dishware, Ingredient, Serve...</td>\n",
              "    </tr>\n",
              "    <tr>\n",
              "      <th>37</th>\n",
              "      <td>CO86a_lnqW_</td>\n",
              "      <td>cusco,perú,traveltheworld,travelphotography,tr...</td>\n",
              "      <td>https://laciudadinvisible.sfo2.digitaloceanspa...</td>\n",
              "      <td>[Building, Window, Nature, Tree, Architecture,...</td>\n",
              "    </tr>\n",
              "    <tr>\n",
              "      <th>38</th>\n",
              "      <td>CO86kJ5HhJp</td>\n",
              "      <td>municipalidadcusco,cusco,artesanos,artesanoscu...</td>\n",
              "      <td>https://laciudadinvisible.sfo2.digitaloceanspa...</td>\n",
              "      <td>[Grey, Wood, Font, Twig, Electric blue, Floori...</td>\n",
              "    </tr>\n",
              "    <tr>\n",
              "      <th>39</th>\n",
              "      <td>CO87-LBDBD2</td>\n",
              "      <td>ecofriendly,deliverycusco,deliveryarequipa,are...</td>\n",
              "      <td>https://laciudadinvisible.sfo2.digitaloceanspa...</td>\n",
              "      <td>[Liquid, Bottle, White, Fluid, Font, Cosmetics...</td>\n",
              "    </tr>\n",
              "    <tr>\n",
              "      <th>40</th>\n",
              "      <td>CO8754UJAnI</td>\n",
              "      <td>missperu,missuniverse,reinasincas,peru,likeit,...</td>\n",
              "      <td>https://laciudadinvisible.sfo2.digitaloceanspa...</td>\n",
              "      <td>[Muscle, Entertainment, Waist, Gesture, Perfor...</td>\n",
              "    </tr>\n",
              "    <tr>\n",
              "      <th>41</th>\n",
              "      <td>CO877KKhGnc</td>\n",
              "      <td>andayviaja,guíaturístico,contumazá,cajamarca,t...</td>\n",
              "      <td>https://laciudadinvisible.sfo2.digitaloceanspa...</td>\n",
              "      <td>[Cloud, Water, Sky, Mountain, Plant, Ecoregion...</td>\n",
              "    </tr>\n",
              "    <tr>\n",
              "      <th>42</th>\n",
              "      <td>CO87g6kn6SJ</td>\n",
              "      <td>fogón,cusco,cusco_peru,cuscomagico</td>\n",
              "      <td>https://laciudadinvisible.sfo2.digitaloceanspa...</td>\n",
              "      <td>[Bonfire, Orange, Flame, Fire, Amber, Sky, Hea...</td>\n",
              "    </tr>\n",
              "    <tr>\n",
              "      <th>43</th>\n",
              "      <td>CO87mjQrQ8L</td>\n",
              "      <td>cusco,picniccusco,peru,airelibre,covid,picnicd...</td>\n",
              "      <td>https://laciudadinvisible.sfo2.digitaloceanspa...</td>\n",
              "      <td>[People in nature, Happy, Hat, Grass, Twig, Tr...</td>\n",
              "    </tr>\n",
              "    <tr>\n",
              "      <th>44</th>\n",
              "      <td>CO87zp6nAQk</td>\n",
              "      <td>missperu2020,peru,peruvian,missperu,missbrasil...</td>\n",
              "      <td>https://laciudadinvisible.sfo2.digitaloceanspa...</td>\n",
              "      <td>[Vertebrate, Temple, Textile, Mammal, Hat, Com...</td>\n",
              "    </tr>\n",
              "    <tr>\n",
              "      <th>45</th>\n",
              "      <td>CO881AArVOA</td>\n",
              "      <td>peru,mountains,fubiz,somewheremagazine,mountai...</td>\n",
              "      <td>https://laciudadinvisible.sfo2.digitaloceanspa...</td>\n",
              "      <td>[Mountain, World, Nature, Snow, Rectangle, Slo...</td>\n",
              "    </tr>\n",
              "    <tr>\n",
              "      <th>46</th>\n",
              "      <td>CO88NU5BNrT</td>\n",
              "      <td>cusco,peru,cuscoperu,sunsetlovers,amazingviews...</td>\n",
              "      <td>https://laciudadinvisible.sfo2.digitaloceanspa...</td>\n",
              "      <td>[Sky, Cloud, Water, Water resources, Atmospher...</td>\n",
              "    </tr>\n",
              "    <tr>\n",
              "      <th>47</th>\n",
              "      <td>CO88WDCgGFF</td>\n",
              "      <td>choquequiraotrek,trekking,choquequirao,cusco,p...</td>\n",
              "      <td>https://laciudadinvisible.sfo2.digitaloceanspa...</td>\n",
              "      <td>[Cloud, Plant, Water resources, Plant communit...</td>\n",
              "    </tr>\n",
              "    <tr>\n",
              "      <th>48</th>\n",
              "      <td>CO88jeLH94S</td>\n",
              "      <td>ollantaytambo,cusco,cuscociudadimperial</td>\n",
              "      <td>https://laciudadinvisible.sfo2.digitaloceanspa...</td>\n",
              "      <td>[Hairstyle, Plant, Smile, Vertebrate, Human, T...</td>\n",
              "    </tr>\n",
              "    <tr>\n",
              "      <th>49</th>\n",
              "      <td>CO88jtJFTdW</td>\n",
              "      <td>malemodel,model,menfashionstyle,fotografia,pho...</td>\n",
              "      <td>https://laciudadinvisible.sfo2.digitaloceanspa...</td>\n",
              "      <td>[Eyebrow, Beard, Neck, Flash photography, Blac...</td>\n",
              "    </tr>\n",
              "  </tbody>\n",
              "</table>\n",
              "</div>"
            ],
            "text/plain": [
              "             id  ...                                             labels\n",
              "0   CO8-3lxJurc  ...  [Cloud, Jeans, Sky, Smile, Leg, Blue, Azure, P...\n",
              "1   CO8-6UhHGLS  ...  [Car, Vehicle, Wheel, Automotive lighting, Hoo...\n",
              "2   CO8-ErhDzQH  ...  [Footwear, Shoe, Walking shoe, Grey, Sneakers,...\n",
              "3   CO8-GcaHR8h  ...  [Drinkware, Tableware, Beer, Barware, Beer gla...\n",
              "4   CO8-PJjli3X  ...  [Building, Sky, Window, Infrastructure, Road s...\n",
              "5   CO8-YX9La4H  ...  [Blue, Sleeve, Plant, Waist, Happy, Sportswear...\n",
              "6   CO8-a4spLqs  ...  [Outerwear, Sleeve, Fashion design, Pattern, W...\n",
              "7   CO8-eyZpvQX  ...  [Mountain, Plant, Cloud, Green, Sky, Nature, P...\n",
              "8   CO8-kuMJcJb  ...  [Plant, Cloud, Sky, Building, Property, Flower...\n",
              "9   CO8-sGKp4Lc  ...  [Plant, Blue, Azure, Flowerpot, Leisure, Tree,...\n",
              "10  CO8-yLqDL9q  ...  [Dog, Sky, Building, Plant, Carnivore, Dog bre...\n",
              "11  CO8357aju6O  ...  [Cloud, Sky, Mountain, Ecoregion, Plant, Peopl...\n",
              "12  CO83_0bh9Zx  ...  [Sky, Mountain, Snow, Slope, Highland, Natural...\n",
              "13  CO83_9-MRpZ  ...  [Water, Boat, Sky, Photograph, Watercraft, Clo...\n",
              "14  CO83xWdJEOa  ...  [Sky, Cloud, Ecoregion, Natural environment, P...\n",
              "15  CO84OlthaNP  ...  [Cloud, Sky, Mountain, Snow, World, Slope, Hig...\n",
              "16  CO84Th1ryfl  ...  [Chin, Eyebrow, Sleeve, Headgear, Collar, Cap,...\n",
              "17  CO84g39rWlb  ...  [Cloud, Sky, People in nature, Slope, Mountain...\n",
              "18  CO84j5Orxxe  ...  [Smile, Face, Nose, Hair, Cheek, Skin, Head, L...\n",
              "19  CO84sqTLNst  ...  [Smile, Shoulder, Sleeve, Flash photography, S...\n",
              "20  CO84yS3DpUy  ...  [Dog, Dog breed, Carnivore, Comfort, Whiskers,...\n",
              "21  CO852XUBEwC  ...  [Plant, Shorts, Luggage and bags, Natural land...\n",
              "22  CO859oSrIzY  ...  [Table, Furniture, Property, Window, Orange, W...\n",
              "23  CO85D4plI6d  ...  [Cloud, Sky, Plant, Nature, Natural landscape,...\n",
              "24  CO85JQtpC39  ...  [Cloud, Tableware, Sky, Drinkware, Liquid, Bee...\n",
              "25  CO85NIdrodt  ...  [Sky, Mountain, Snow, Natural landscape, Bedro...\n",
              "26  CO85SzrM_oi  ...  [Cloud, Plant, Sky, Property, Building, Window...\n",
              "27  CO85UzSL7tx  ...  [Flower, Plant, Cloud, Sky, Plant community, E...\n",
              "28  CO85VaIBy4X  ...  [Dog, Organism, Gesture, Yellow, Poster, Happy...\n",
              "29  CO85jmjMvM5  ...  [Water, Cloud, Sky, People in nature, Boats an...\n",
              "30  CO85oVchxTb  ...  [Clothing, Street light, Road surface, Temple,...\n",
              "31  CO85r75LNR8  ...  [Sky, Cloud, People in nature, Flash photograp...\n",
              "32  CO85wKtIF5D  ...  [Jeans, Trousers, Outerwear, Human body, Sleev...\n",
              "33  CO866QXl2Xy  ...  [Brown, Water, Sky, Cloud, Road surface, Wood,...\n",
              "34  CO86PmunEZ6  ...  [Smile, Art, Happy, Chest, Cap, Metal, Event, ...\n",
              "35  CO86TUUlR6E  ...  [Eyebrow, Jaw, Ear, Office equipment, Engineer...\n",
              "36  CO86UPwBaVU  ...  [Plant, Tableware, Dishware, Ingredient, Serve...\n",
              "37  CO86a_lnqW_  ...  [Building, Window, Nature, Tree, Architecture,...\n",
              "38  CO86kJ5HhJp  ...  [Grey, Wood, Font, Twig, Electric blue, Floori...\n",
              "39  CO87-LBDBD2  ...  [Liquid, Bottle, White, Fluid, Font, Cosmetics...\n",
              "40  CO8754UJAnI  ...  [Muscle, Entertainment, Waist, Gesture, Perfor...\n",
              "41  CO877KKhGnc  ...  [Cloud, Water, Sky, Mountain, Plant, Ecoregion...\n",
              "42  CO87g6kn6SJ  ...  [Bonfire, Orange, Flame, Fire, Amber, Sky, Hea...\n",
              "43  CO87mjQrQ8L  ...  [People in nature, Happy, Hat, Grass, Twig, Tr...\n",
              "44  CO87zp6nAQk  ...  [Vertebrate, Temple, Textile, Mammal, Hat, Com...\n",
              "45  CO881AArVOA  ...  [Mountain, World, Nature, Snow, Rectangle, Slo...\n",
              "46  CO88NU5BNrT  ...  [Sky, Cloud, Water, Water resources, Atmospher...\n",
              "47  CO88WDCgGFF  ...  [Cloud, Plant, Water resources, Plant communit...\n",
              "48  CO88jeLH94S  ...  [Hairstyle, Plant, Smile, Vertebrate, Human, T...\n",
              "49  CO88jtJFTdW  ...  [Eyebrow, Beard, Neck, Flash photography, Blac...\n",
              "\n",
              "[50 rows x 4 columns]"
            ]
          },
          "metadata": {},
          "execution_count": 121
        }
      ]
    },
    {
      "cell_type": "code",
      "metadata": {
        "colab": {
          "base_uri": "https://localhost:8080/",
          "height": 35
        },
        "id": "JPKqgwmymYi5",
        "outputId": "28d66ffd-2906-4908-e21d-db29f2cbd6fb"
      },
      "source": [
        "series[28][\"image_uri\"]"
      ],
      "execution_count": 123,
      "outputs": [
        {
          "output_type": "execute_result",
          "data": {
            "application/vnd.google.colaboratory.intrinsic+json": {
              "type": "string"
            },
            "text/plain": [
              "'https://laciudadinvisible.sfo2.digitaloceanspaces.com/laciudadinvisible/CO85VaIBy4X.jpg'"
            ]
          },
          "metadata": {},
          "execution_count": 123
        }
      ]
    }
  ]
}